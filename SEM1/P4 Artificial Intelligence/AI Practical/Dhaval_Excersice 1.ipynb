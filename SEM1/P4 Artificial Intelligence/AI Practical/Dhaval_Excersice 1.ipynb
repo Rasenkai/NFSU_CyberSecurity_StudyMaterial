{
 "cells": [
  {
   "cell_type": "markdown",
   "id": "adf0ab4f",
   "metadata": {},
   "source": [
    "\"What is 7 to the power 4\""
   ]
  },
  {
   "cell_type": "code",
   "execution_count": 1,
   "id": "0bb2d881",
   "metadata": {},
   "outputs": [
    {
     "data": {
      "text/plain": [
       "2401"
      ]
     },
     "execution_count": 1,
     "metadata": {},
     "output_type": "execute_result"
    }
   ],
   "source": [
    "7 ** 4"
   ]
  },
  {
   "cell_type": "markdown",
   "id": "118c5f2b",
   "metadata": {},
   "source": [
    "** Split this string:**\n",
    "\n",
    "s = \"Hi there Sam!\"\n",
    "into a list."
   ]
  },
  {
   "cell_type": "code",
   "execution_count": 2,
   "id": "11e301d5",
   "metadata": {},
   "outputs": [],
   "source": [
    "s= \"Hi there sam!\""
   ]
  },
  {
   "cell_type": "code",
   "execution_count": 3,
   "id": "d982f828",
   "metadata": {},
   "outputs": [
    {
     "data": {
      "text/plain": [
       "['Hi', 'there', 'sam!']"
      ]
     },
     "execution_count": 3,
     "metadata": {},
     "output_type": "execute_result"
    }
   ],
   "source": [
    "s.split( )"
   ]
  },
  {
   "cell_type": "markdown",
   "id": "75f0af61",
   "metadata": {},
   "source": [
    "** Given the variables:**\n",
    "\n",
    "planet = \"Earth\"\n",
    "diameter = 12742\n",
    "** Use .format() to print the following string: **\n",
    "\n",
    "The diameter of Earth is 12742 kilometers."
   ]
  },
  {
   "cell_type": "code",
   "execution_count": 10,
   "id": "e40440cd",
   "metadata": {},
   "outputs": [],
   "source": [
    "planet = \"Earth\"\n",
    "diameter = 12742"
   ]
  },
  {
   "cell_type": "code",
   "execution_count": 12,
   "id": "b435057d",
   "metadata": {},
   "outputs": [
    {
     "name": "stdout",
     "output_type": "stream",
     "text": [
      "The diameter of Earth is 12742 kilometer.\n"
     ]
    }
   ],
   "source": [
    "print(\"The diameter of {planet} is {diameter} kilometer.\".format(planet=planet,diameter=diameter))"
   ]
  },
  {
   "cell_type": "code",
   "execution_count": null,
   "id": "9abde9c1",
   "metadata": {},
   "outputs": [],
   "source": []
  }
 ],
 "metadata": {
  "kernelspec": {
   "display_name": "Python 3 (ipykernel)",
   "language": "python",
   "name": "python3"
  },
  "language_info": {
   "codemirror_mode": {
    "name": "ipython",
    "version": 3
   },
   "file_extension": ".py",
   "mimetype": "text/x-python",
   "name": "python",
   "nbconvert_exporter": "python",
   "pygments_lexer": "ipython3",
   "version": "3.9.12"
  }
 },
 "nbformat": 4,
 "nbformat_minor": 5
}
