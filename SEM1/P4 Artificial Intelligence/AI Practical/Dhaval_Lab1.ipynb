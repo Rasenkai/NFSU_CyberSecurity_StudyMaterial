{
 "cells": [
  {
   "cell_type": "markdown",
   "id": "11b5c5ef",
   "metadata": {},
   "source": [
    "list Operation"
   ]
  },
  {
   "cell_type": "code",
   "execution_count": 10,
   "id": "4b93fbc1",
   "metadata": {},
   "outputs": [],
   "source": [
    "mylst = [1,2,[10,11]]"
   ]
  },
  {
   "cell_type": "code",
   "execution_count": 11,
   "id": "cdc3c79e",
   "metadata": {},
   "outputs": [
    {
     "name": "stdout",
     "output_type": "stream",
     "text": [
      "10\n"
     ]
    }
   ],
   "source": [
    "print(mylst[2][0])"
   ]
  },
  {
   "cell_type": "markdown",
   "id": "ccb45d32",
   "metadata": {},
   "source": [
    "Distionary data access"
   ]
  },
  {
   "cell_type": "code",
   "execution_count": 12,
   "id": "ded0e6bd",
   "metadata": {},
   "outputs": [],
   "source": [
    "d={'k1':{'innerkey':[1,2,3]}}"
   ]
  },
  {
   "cell_type": "code",
   "execution_count": 13,
   "id": "ddc67603",
   "metadata": {},
   "outputs": [
    {
     "name": "stdout",
     "output_type": "stream",
     "text": [
      "{'innerkey': [1, 2, 3]}\n"
     ]
    }
   ],
   "source": [
    "print(d['k1'])"
   ]
  },
  {
   "cell_type": "code",
   "execution_count": 14,
   "id": "3d167cce",
   "metadata": {},
   "outputs": [
    {
     "name": "stdout",
     "output_type": "stream",
     "text": [
      "2\n"
     ]
    }
   ],
   "source": [
    "print(d['k1']['innerkey'][1])"
   ]
  },
  {
   "cell_type": "markdown",
   "id": "cfa2c20b",
   "metadata": {},
   "source": [
    "Tupple's operation"
   ]
  },
  {
   "cell_type": "code",
   "execution_count": 15,
   "id": "d26183df",
   "metadata": {},
   "outputs": [],
   "source": [
    "t = (1,2,3)"
   ]
  },
  {
   "cell_type": "code",
   "execution_count": 16,
   "id": "df488516",
   "metadata": {},
   "outputs": [
    {
     "data": {
      "text/plain": [
       "1"
      ]
     },
     "execution_count": 16,
     "metadata": {},
     "output_type": "execute_result"
    }
   ],
   "source": [
    "t[0]"
   ]
  },
  {
   "cell_type": "code",
   "execution_count": 17,
   "id": "ea52b5e4",
   "metadata": {},
   "outputs": [
    {
     "ename": "TypeError",
     "evalue": "'tuple' object does not support item assignment",
     "output_type": "error",
     "traceback": [
      "\u001b[1;31m---------------------------------------------------------------------------\u001b[0m",
      "\u001b[1;31mTypeError\u001b[0m                                 Traceback (most recent call last)",
      "Input \u001b[1;32mIn [17]\u001b[0m, in \u001b[0;36m<cell line: 1>\u001b[1;34m()\u001b[0m\n\u001b[1;32m----> 1\u001b[0m t[\u001b[38;5;241m0\u001b[39m] \u001b[38;5;241m=\u001b[39m \u001b[38;5;241m14\u001b[39m\n",
      "\u001b[1;31mTypeError\u001b[0m: 'tuple' object does not support item assignment"
     ]
    }
   ],
   "source": [
    "t[0] = 14"
   ]
  },
  {
   "cell_type": "markdown",
   "id": "5a893c6f",
   "metadata": {},
   "source": [
    "Set property"
   ]
  },
  {
   "cell_type": "code",
   "execution_count": 18,
   "id": "ad02891e",
   "metadata": {},
   "outputs": [],
   "source": [
    "s = {1,1,2,3,4,2}"
   ]
  },
  {
   "cell_type": "code",
   "execution_count": 19,
   "id": "be403e17",
   "metadata": {},
   "outputs": [
    {
     "data": {
      "text/plain": [
       "{1, 2, 3, 4}"
      ]
     },
     "execution_count": 19,
     "metadata": {},
     "output_type": "execute_result"
    }
   ],
   "source": [
    "s"
   ]
  },
  {
   "cell_type": "code",
   "execution_count": 20,
   "id": "d5e7727b",
   "metadata": {},
   "outputs": [
    {
     "name": "stdout",
     "output_type": "stream",
     "text": [
      "{1, 2, 3, 4}\n"
     ]
    }
   ],
   "source": [
    "print(s)"
   ]
  },
  {
   "cell_type": "code",
   "execution_count": 21,
   "id": "b757a3de",
   "metadata": {},
   "outputs": [],
   "source": [
    "s.add(5)"
   ]
  },
  {
   "cell_type": "code",
   "execution_count": 22,
   "id": "bd0548a6",
   "metadata": {},
   "outputs": [
    {
     "data": {
      "text/plain": [
       "{1, 2, 3, 4, 5}"
      ]
     },
     "execution_count": 22,
     "metadata": {},
     "output_type": "execute_result"
    }
   ],
   "source": [
    "s"
   ]
  },
  {
   "cell_type": "markdown",
   "id": "a52e1353",
   "metadata": {},
   "source": [
    "Loops"
   ]
  },
  {
   "cell_type": "code",
   "execution_count": 23,
   "id": "fd7b1f67",
   "metadata": {},
   "outputs": [],
   "source": [
    "my_list = [1,2,3]"
   ]
  },
  {
   "cell_type": "code",
   "execution_count": 24,
   "id": "860874d6",
   "metadata": {},
   "outputs": [
    {
     "name": "stdout",
     "output_type": "stream",
     "text": [
      "1\n",
      "2\n",
      "3\n"
     ]
    }
   ],
   "source": [
    "for var in my_list:\n",
    "    print(var)"
   ]
  },
  {
   "cell_type": "code",
   "execution_count": 25,
   "id": "cd397583",
   "metadata": {},
   "outputs": [],
   "source": [
    "a = [1,2,3]\n",
    "b = [3,4,5]"
   ]
  },
  {
   "cell_type": "code",
   "execution_count": 53,
   "id": "7ccba615",
   "metadata": {},
   "outputs": [
    {
     "name": "stdout",
     "output_type": "stream",
     "text": [
      "1\n",
      "3\n",
      "1\n",
      "4\n",
      "1\n",
      "5\n",
      "2\n",
      "3\n",
      "2\n",
      "4\n",
      "2\n",
      "5\n",
      "3\n",
      "3\n",
      "3\n",
      "4\n",
      "3\n",
      "5\n"
     ]
    }
   ],
   "source": [
    "for vara in a:\n",
    "    for varb in b:\n",
    "        print (vara)\n",
    "        print (varb)"
   ]
  },
  {
   "cell_type": "code",
   "execution_count": 55,
   "id": "b7374691",
   "metadata": {},
   "outputs": [
    {
     "name": "stdout",
     "output_type": "stream",
     "text": [
      "0\n",
      "1\n",
      "2\n",
      "3\n",
      "4\n",
      "5\n",
      "6\n",
      "7\n",
      "8\n",
      "9\n",
      "10\n",
      "11\n",
      "12\n",
      "13\n",
      "14\n",
      "15\n"
     ]
    }
   ],
   "source": [
    "i=0\n",
    "while i<=15:\n",
    "    print(i)\n",
    "    i = i+1"
   ]
  },
  {
   "cell_type": "code",
   "execution_count": 61,
   "id": "82a2bf90",
   "metadata": {},
   "outputs": [
    {
     "name": "stdout",
     "output_type": "stream",
     "text": [
      "5\n"
     ]
    }
   ],
   "source": [
    "print(len(s))"
   ]
  },
  {
   "cell_type": "code",
   "execution_count": 63,
   "id": "34fdc4b9",
   "metadata": {},
   "outputs": [
    {
     "name": "stdout",
     "output_type": "stream",
     "text": [
      "3\n"
     ]
    }
   ],
   "source": [
    "print(len(t))"
   ]
  },
  {
   "cell_type": "code",
   "execution_count": 64,
   "id": "98781fdb",
   "metadata": {},
   "outputs": [],
   "source": [
    "string = \"hi my name is Dhaval\""
   ]
  },
  {
   "cell_type": "code",
   "execution_count": 65,
   "id": "78760bab",
   "metadata": {},
   "outputs": [
    {
     "name": "stdout",
     "output_type": "stream",
     "text": [
      "20\n"
     ]
    }
   ],
   "source": [
    "print(len(string))"
   ]
  },
  {
   "cell_type": "markdown",
   "id": "926d82fe",
   "metadata": {},
   "source": [
    "Functions"
   ]
  },
  {
   "cell_type": "code",
   "execution_count": 70,
   "id": "b3550bce",
   "metadata": {},
   "outputs": [
    {
     "name": "stdout",
     "output_type": "stream",
     "text": [
      "my Name is Dhaval\n"
     ]
    }
   ],
   "source": [
    "def my_function(name):\n",
    "    print(\"my Name is \"+ name)\n",
    "my_function(\"Dhaval\")"
   ]
  },
  {
   "cell_type": "code",
   "execution_count": 71,
   "id": "43cb9895",
   "metadata": {},
   "outputs": [
    {
     "name": "stdout",
     "output_type": "stream",
     "text": [
      "my Name is ABC\n"
     ]
    }
   ],
   "source": [
    "my_function(\"ABC\")"
   ]
  },
  {
   "cell_type": "code",
   "execution_count": 111,
   "id": "9852e5b7",
   "metadata": {},
   "outputs": [
    {
     "name": "stdout",
     "output_type": "stream",
     "text": [
      "10\n"
     ]
    }
   ],
   "source": [
    "def sum(a,b):\n",
    "    c=a+b\n",
    "    print(c)\n",
    "sum(5,5)"
   ]
  },
  {
   "cell_type": "markdown",
   "id": "7bc124c3",
   "metadata": {},
   "source": [
    "Lambda function"
   ]
  },
  {
   "cell_type": "code",
   "execution_count": 83,
   "id": "e70ead29",
   "metadata": {},
   "outputs": [],
   "source": [
    "t= lambda x : x*2"
   ]
  },
  {
   "cell_type": "code",
   "execution_count": 84,
   "id": "78010726",
   "metadata": {},
   "outputs": [
    {
     "data": {
      "text/plain": [
       "4"
      ]
     },
     "execution_count": 84,
     "metadata": {},
     "output_type": "execute_result"
    }
   ],
   "source": [
    "t(2)"
   ]
  },
  {
   "cell_type": "code",
   "execution_count": 110,
   "id": "7a1b85d4",
   "metadata": {},
   "outputs": [
    {
     "ename": "SyntaxError",
     "evalue": "cannot assign to lambda (2297568868.py, line 1)",
     "output_type": "error",
     "traceback": [
      "\u001b[1;36m  Input \u001b[1;32mIn [110]\u001b[1;36m\u001b[0m\n\u001b[1;33m    t1= lambda x,a,b,c: x=a+b+c\u001b[0m\n\u001b[1;37m        ^\u001b[0m\n\u001b[1;31mSyntaxError\u001b[0m\u001b[1;31m:\u001b[0m cannot assign to lambda\n"
     ]
    }
   ],
   "source": [
    "t1= lambda x,a,b,c: x=a+b+c"
   ]
  },
  {
   "cell_type": "code",
   "execution_count": 86,
   "id": "7f47af6b",
   "metadata": {},
   "outputs": [
    {
     "data": {
      "text/plain": [
       "18"
      ]
     },
     "execution_count": 86,
     "metadata": {},
     "output_type": "execute_result"
    }
   ],
   "source": [
    "t1(5,4,6,3)"
   ]
  },
  {
   "cell_type": "code",
   "execution_count": 115,
   "id": "2fa27e7c",
   "metadata": {},
   "outputs": [],
   "source": [
    "t2= lambda a,b,c: a+b+c\n"
   ]
  },
  {
   "cell_type": "code",
   "execution_count": 116,
   "id": "1b49aee9",
   "metadata": {},
   "outputs": [
    {
     "data": {
      "text/plain": [
       "62"
      ]
     },
     "execution_count": 116,
     "metadata": {},
     "output_type": "execute_result"
    }
   ],
   "source": [
    "t2(8,9,45)"
   ]
  },
  {
   "cell_type": "markdown",
   "id": "01d5d0d3",
   "metadata": {},
   "source": [
    "Map"
   ]
  },
  {
   "cell_type": "code",
   "execution_count": 105,
   "id": "c4b8acbc",
   "metadata": {},
   "outputs": [],
   "source": [
    "maplst=[1,2,3]\n"
   ]
  },
  {
   "cell_type": "markdown",
   "id": "f14fe04e",
   "metadata": {},
   "source": [
    "Filter"
   ]
  },
  {
   "cell_type": "code",
   "execution_count": 108,
   "id": "2311774b",
   "metadata": {},
   "outputs": [
    {
     "data": {
      "text/plain": [
       "[2, 4]"
      ]
     },
     "execution_count": 108,
     "metadata": {},
     "output_type": "execute_result"
    }
   ],
   "source": [
    "myfltlst =[2,3,4,5]\n",
    "list(filter(lambda num:num%2==0,myfltlst))"
   ]
  }
 ],
 "metadata": {
  "kernelspec": {
   "display_name": "Python 3 (ipykernel)",
   "language": "python",
   "name": "python3"
  },
  "language_info": {
   "codemirror_mode": {
    "name": "ipython",
    "version": 3
   },
   "file_extension": ".py",
   "mimetype": "text/x-python",
   "name": "python",
   "nbconvert_exporter": "python",
   "pygments_lexer": "ipython3",
   "version": "3.9.12"
  }
 },
 "nbformat": 4,
 "nbformat_minor": 5
}
